{
  "nbformat": 4,
  "nbformat_minor": 0,
  "metadata": {
    "colab": {
      "provenance": []
    },
    "kernelspec": {
      "name": "python3",
      "display_name": "Python 3"
    },
    "language_info": {
      "name": "python"
    }
  },
  "cells": [
    {
      "cell_type": "code",
      "execution_count": 13,
      "metadata": {
        "colab": {
          "base_uri": "https://localhost:8080/"
        },
        "id": "i60O1nKWyEWO",
        "outputId": "33e02c13-ae0c-4869-c253-65fd9de03872"
      },
      "outputs": [
        {
          "output_type": "stream",
          "name": "stderr",
          "text": [
            "[nltk_data] Downloading package punkt to /root/nltk_data...\n",
            "[nltk_data]   Package punkt is already up-to-date!\n"
          ]
        }
      ],
      "source": [
        "import nltk\n",
        "from nltk import word_tokenize\n",
        "from nltk.util import ngrams\n",
        "from collections import Counter, defaultdict\n",
        "import random\n",
        "nltk.download('punkt')\n",
        "corpus = \"This is a ball\"\n",
        "tokens = word_tokenize(corpus.lower())\n",
        "unigrams = list(ngrams(tokens, 1))\n",
        "unigram_counts = Counter(unigrams)"
      ]
    },
    {
      "cell_type": "code",
      "source": [
        "corpus = \"This car is red in colour\"\n",
        "tokens = word_tokenize(corpus.lower())\n",
        "unigrams = list(ngrams(tokens, 1))\n",
        "unigram_counts = Counter(unigrams)\n",
        "print(\"Unigrams:\")\n",
        "print(unigram_counts)"
      ],
      "metadata": {
        "colab": {
          "base_uri": "https://localhost:8080/"
        },
        "id": "jz24iO4PyoZV",
        "outputId": "04748dd6-effa-42a3-c2bd-2c290379d569"
      },
      "execution_count": 12,
      "outputs": [
        {
          "output_type": "stream",
          "name": "stdout",
          "text": [
            "Unigrams:\n",
            "Counter({('this',): 1, ('car',): 1, ('is',): 1, ('red',): 1, ('in',): 1, ('colour',): 1})\n"
          ]
        }
      ]
    },
    {
      "cell_type": "code",
      "source": [
        "bigrams = list(ngrams(tokens, 2))\n",
        "bigram_counts = Counter(bigrams)\n",
        "print(\"\\nBigrams:\")\n",
        "print(bigram_counts)"
      ],
      "metadata": {
        "colab": {
          "base_uri": "https://localhost:8080/"
        },
        "id": "F3XoRnSrz3C5",
        "outputId": "00ae69f8-a48d-44ea-8ae6-a0406ac83dcf"
      },
      "execution_count": 15,
      "outputs": [
        {
          "output_type": "stream",
          "name": "stdout",
          "text": [
            "\n",
            "Bigrams:\n",
            "Counter({('this', 'is'): 1, ('is', 'a'): 1, ('a', 'ball'): 1})\n"
          ]
        }
      ]
    },
    {
      "cell_type": "code",
      "source": [
        "trigrams = list(ngrams(tokens, 3))\n",
        "trigram_counts = Counter(trigrams)\n",
        "print(\"\\nTrigrams:\")\n",
        "print(trigram_counts)"
      ],
      "metadata": {
        "colab": {
          "base_uri": "https://localhost:8080/"
        },
        "id": "u-G6A4RD0JiH",
        "outputId": "ffbc151f-e5a3-4459-9d3f-40435567d7bc"
      },
      "execution_count": 14,
      "outputs": [
        {
          "output_type": "stream",
          "name": "stdout",
          "text": [
            "\n",
            "Trigrams:\n",
            "Counter({('this', 'is', 'a'): 1, ('is', 'a', 'ball'): 1})\n"
          ]
        }
      ]
    },
    {
      "cell_type": "code",
      "source": [
        "bigram_probabilities = defaultdict(lambda: defaultdict(lambda: 0))\n",
        "\n",
        "for bigram in bigrams:\n",
        "    bigram_probabilities[bigram[0]][bigram[1]] += 1\n",
        "\n",
        "for w1 in bigram_probabilities:\n",
        "    total_count = float(sum(bigram_probabilities[w1].values()))\n",
        "    for w2 in bigram_probabilities[w1]:\n",
        "        bigram_probabilities[w1][w2] /= total_count\n",
        "print(\"\\nBigram Probabilities:\")\n",
        "for w1 in bigram_probabilities:\n",
        "    for w2 in bigram_probabilities[w1]:\n",
        "        print(f\"P({w2}|{w1}) = {bigram_probabilities[w1][w2]}\")"
      ],
      "metadata": {
        "colab": {
          "base_uri": "https://localhost:8080/"
        },
        "id": "0qMY1qOS0XHP",
        "outputId": "adf37926-8a38-40d5-bdb4-106660173aa3"
      },
      "execution_count": 16,
      "outputs": [
        {
          "output_type": "stream",
          "name": "stdout",
          "text": [
            "\n",
            "Bigram Probabilities:\n",
            "P(is|this) = 1.0\n",
            "P(a|is) = 1.0\n",
            "P(ball|a) = 1.0\n"
          ]
        }
      ]
    },
    {
      "cell_type": "code",
      "source": [
        "def predict_next_word(previous_word, n=1):\n",
        "    next_words = bigram_probabilities[previous_word]\n",
        "    if not next_words:\n",
        "        return None\n",
        "    return sorted(next_words.items(), key=lambda item: item[1], reverse=True)[:n]\n",
        ""
      ],
      "metadata": {
        "id": "Vy_mQ3ub0iPP"
      },
      "execution_count": 18,
      "outputs": []
    },
    {
      "cell_type": "code",
      "source": [
        "previous_word = 'this'\n",
        "predicted_words = predict_next_word(previous_word, n=3)\n",
        "print(f\"\\nNext word predictions for '{previous_word}': {predicted_words}\")"
      ],
      "metadata": {
        "colab": {
          "base_uri": "https://localhost:8080/"
        },
        "id": "zZ4E4kbj092u",
        "outputId": "d68e5b83-f17f-46b9-c994-0e78eb252c0d"
      },
      "execution_count": 19,
      "outputs": [
        {
          "output_type": "stream",
          "name": "stdout",
          "text": [
            "\n",
            "Next word predictions for 'this': [('is', 1.0)]\n"
          ]
        }
      ]
    }
  ]
}